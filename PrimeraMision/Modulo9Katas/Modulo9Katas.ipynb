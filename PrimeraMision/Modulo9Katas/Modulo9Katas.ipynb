{
 "cells": [
  {
   "cell_type": "markdown",
   "metadata": {},
   "source": [
    "# Ejercicio: Uso de funciones en Python"
   ]
  },
  {
   "cell_type": "markdown",
   "metadata": {},
   "source": [
    "Función para leer 3 tanques de combustible y muestre el promedio"
   ]
  },
  {
   "cell_type": "code",
   "execution_count": 71,
   "metadata": {},
   "outputs": [],
   "source": [
    "def informe_combustible(tanque_principal, tanque_externo, tanque_reserva):\n",
    "    promedio_total = (tanque_principal + tanque_externo + tanque_reserva) / 3\n",
    "    return f\"\"\" Reporte Combustible:\n",
    "    Promedio Total Combustible: {promedio_total}%\n",
    "    Tanque Principal: {tanque_principal}%\n",
    "    Tanque Externo: {tanque_externo}%\n",
    "    Tanque Reserva: {tanque_reserva}% \n",
    "    \"\"\""
   ]
  },
  {
   "cell_type": "markdown",
   "metadata": {},
   "source": [
    "Llamamos a la función que genera el reporte"
   ]
  },
  {
   "cell_type": "code",
   "execution_count": 72,
   "metadata": {},
   "outputs": [
    {
     "name": "stdout",
     "output_type": "stream",
     "text": [
      " Reporte Combustible:\n",
      "    Promedio Total Combustible: 75.0%\n",
      "    Tanque Principal: 75%\n",
      "    Tanque Externo: 50%\n",
      "    Tanque Reserva: 100% \n",
      "    \n"
     ]
    }
   ],
   "source": [
    "print(informe_combustible(75, 50, 100))"
   ]
  },
  {
   "cell_type": "markdown",
   "metadata": {},
   "source": [
    "Función promedio "
   ]
  },
  {
   "cell_type": "code",
   "execution_count": 73,
   "metadata": {},
   "outputs": [
    {
     "data": {
      "text/plain": [
       "10.0"
      ]
     },
     "execution_count": 73,
     "metadata": {},
     "output_type": "execute_result"
    }
   ],
   "source": [
    "def promedio(valores):\n",
    "    total = sum(valores)\n",
    "    numero_de_datos = len(valores)\n",
    "    return total / numero_de_datos\n",
    "\n",
    "promedio([10, 10, 10]) "
   ]
  },
  {
   "cell_type": "markdown",
   "metadata": {},
   "source": [
    "Actualizamos la funcion"
   ]
  },
  {
   "cell_type": "code",
   "execution_count": 74,
   "metadata": {},
   "outputs": [],
   "source": [
    "def informe_combustible(tanque_principal, tanque_externo, tanque_reserva):\n",
    "    return f\"\"\" Reporte Combustible:\n",
    "    Promedio Total Combustible: {promedio([tanque_principal, tanque_externo, tanque_reserva])}%\n",
    "    Tanque Principal: {tanque_principal}%\n",
    "    Tanque Externo: {tanque_externo}%\n",
    "    Tanque Reserva: {tanque_reserva}% \n",
    "    \"\"\""
   ]
  },
  {
   "cell_type": "code",
   "execution_count": 75,
   "metadata": {},
   "outputs": [
    {
     "name": "stdout",
     "output_type": "stream",
     "text": [
      " Reporte Combustible:\n",
      "    Promedio Total Combustible: 91.66666666666667%\n",
      "    Tanque Principal: 80%\n",
      "    Tanque Externo: 95%\n",
      "    Tanque Reserva: 100% \n",
      "    \n"
     ]
    }
   ],
   "source": [
    "print(informe_combustible(80, 95, 100))"
   ]
  },
  {
   "cell_type": "markdown",
   "metadata": {},
   "source": [
    "\n",
    "# Ejercicio 2: Trabajo con argumentos de palabra clave"
   ]
  },
  {
   "cell_type": "markdown",
   "metadata": {},
   "source": [
    "Función con un informe preciso de la misión."
   ]
  },
  {
   "cell_type": "code",
   "execution_count": 76,
   "metadata": {},
   "outputs": [
    {
     "name": "stdout",
     "output_type": "stream",
     "text": [
      "\n",
      "    Mision hacia Luna\n",
      "    Tiempo total trancurrido: 29 minutos\n",
      "    Total de combustible restante: 1300000 galones\n",
      "    \n"
     ]
    }
   ],
   "source": [
    "\n",
    "def reporte_mision(hora_de_prelanzamiento, tiempo_de_vuelo, destino, tanque_externo, tanque_interno):\n",
    "    return f\"\"\"\n",
    "    Mision hacia {destino}\n",
    "    Tiempo total trancurrido: {hora_de_prelanzamiento + tiempo_de_vuelo} minutos\n",
    "    Total de combustible restante: {tanque_externo + tanque_interno} galones\n",
    "    \"\"\"\n",
    "\n",
    "print(reporte_mision(19, 10, \"Luna\", 500000, 800000))"
   ]
  },
  {
   "cell_type": "markdown",
   "metadata": {},
   "source": [
    "Funcion más flexible"
   ]
  },
  {
   "cell_type": "code",
   "execution_count": 77,
   "metadata": {},
   "outputs": [
    {
     "name": "stdout",
     "output_type": "stream",
     "text": [
      "\n",
      "    Mision hacia Luna\n",
      "    Tiempo total trancurrido: 96 minutos\n",
      "    Total de combustible restante: 800000\n",
      "    \n"
     ]
    }
   ],
   "source": [
    "def reporte_mision(destino, *minutes, **fuel_reservoirs):\n",
    "    return f\"\"\"\n",
    "    Mision hacia {destino}\n",
    "    Tiempo total trancurrido: {sum(minutes)} minutos\n",
    "    Total de combustible restante: {sum(fuel_reservoirs.values())}\n",
    "    \"\"\"\n",
    "\n",
    "print(reporte_mision(\"Luna\", 50, 35, 11, principal=200000, externo=600000))"
   ]
  },
  {
   "cell_type": "markdown",
   "metadata": {},
   "source": [
    "Función para usar el nombre de cada tanque en el informe"
   ]
  },
  {
   "cell_type": "code",
   "execution_count": 78,
   "metadata": {},
   "outputs": [
    {
     "name": "stdout",
     "output_type": "stream",
     "text": [
      "\n",
      "    Mision hacia Luna\n",
      "    Tiempo total trancurrido: 45 minutos\n",
      "    Total de combustible restante: 1100000\n",
      "    Tanque Principal --> 700000 litros restantes\n",
      "Tanque Externo --> 400000 litros restantes\n",
      "\n"
     ]
    }
   ],
   "source": [
    "def reporte_mision(destino, *minutes, **fuel_reservoirs):\n",
    "    reporte_principal = f\"\"\"\n",
    "    Mision hacia {destino}\n",
    "    Tiempo total trancurrido: {sum(minutes)} minutos\n",
    "    Total de combustible restante: {sum(fuel_reservoirs.values())}\n",
    "    \"\"\"\n",
    "    for nombre_tanque, litros in fuel_reservoirs.items():\n",
    "        reporte_principal += f\"Tanque {nombre_tanque} --> {litros} litros restantes\\n\"\n",
    "    return reporte_principal\n",
    "\n",
    "print(reporte_mision(\"Luna\", 2, 33, 10, Principal=700000, Externo=400000))"
   ]
  }
 ],
 "metadata": {
  "interpreter": {
   "hash": "916dbcbb3f70747c44a77c7bcd40155683ae19c65e1c03b4aa3499c5328201f1"
  },
  "kernelspec": {
   "display_name": "Python 3.9.5 64-bit",
   "language": "python",
   "name": "python3"
  },
  "language_info": {
   "codemirror_mode": {
    "name": "ipython",
    "version": 3
   },
   "file_extension": ".py",
   "mimetype": "text/x-python",
   "name": "python",
   "nbconvert_exporter": "python",
   "pygments_lexer": "ipython3",
   "version": "3.9.5"
  },
  "orig_nbformat": 4
 },
 "nbformat": 4,
 "nbformat_minor": 2
}
