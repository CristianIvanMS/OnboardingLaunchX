{
 "cells": [
  {
   "cell_type": "markdown",
   "metadata": {},
   "source": [
    "Ejercicio 1 : Calcular la distancia entre dos planetas"
   ]
  },
  {
   "cell_type": "markdown",
   "metadata": {},
   "source": [
    "Crear variables"
   ]
  },
  {
   "cell_type": "code",
   "execution_count": 2,
   "metadata": {},
   "outputs": [
    {
     "name": "stdout",
     "output_type": "stream",
     "text": [
      "628949330 Km\n",
      "390577533.93 Millas\n"
     ]
    }
   ],
   "source": [
    "dist_tierra = 149597870 #km\n",
    "dist_jupiter = 778547200 #Km\n",
    "dist_entre_planetas = dist_jupiter - dist_tierra\n",
    "print(dist_entre_planetas, 'Km')\n",
    "print(dist_entre_planetas * 0.621, 'Millas')"
   ]
  },
  {
   "cell_type": "markdown",
   "metadata": {},
   "source": [
    "Ejercicio 2 : Crear una aplicación para trabajar con números y entrada de usuario"
   ]
  },
  {
   "cell_type": "markdown",
   "metadata": {},
   "source": [
    "Almacenamos las entradas del usuario"
   ]
  },
  {
   "cell_type": "code",
   "execution_count": 10,
   "metadata": {},
   "outputs": [
    {
     "name": "stdout",
     "output_type": "stream",
     "text": [
      "55555511111111 Km\n",
      "34499972399999.93 Millas\n"
     ]
    }
   ],
   "source": [
    "planeta_1 = input('¿Cual es la distancia desde el sol al primer planeta en KM?')\n",
    "planeta_2 = input('¿Cual es la distancia desde el sol al segundo planeta en KM?')\n",
    "planeta_1 = int(planeta_1)\n",
    "planeta_2 = int(planeta_2)\n",
    "distancia_km = planeta_2 - planeta_1\n",
    "print(distancia_km, 'Km')\n",
    "print(distancia_km * 0.621, 'Millas')"
   ]
  }
 ],
 "metadata": {
  "interpreter": {
   "hash": "916dbcbb3f70747c44a77c7bcd40155683ae19c65e1c03b4aa3499c5328201f1"
  },
  "kernelspec": {
   "display_name": "Python 3.9.5 64-bit",
   "language": "python",
   "name": "python3"
  },
  "language_info": {
   "codemirror_mode": {
    "name": "ipython",
    "version": 3
   },
   "file_extension": ".py",
   "mimetype": "text/x-python",
   "name": "python",
   "nbconvert_exporter": "python",
   "pygments_lexer": "ipython3",
   "version": "3.9.5"
  },
  "orig_nbformat": 4
 },
 "nbformat": 4,
 "nbformat_minor": 2
}
