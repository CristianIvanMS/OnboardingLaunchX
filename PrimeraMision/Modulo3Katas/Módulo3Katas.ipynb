{
 "cells": [
  {
   "cell_type": "markdown",
   "metadata": {},
   "source": [
    "Kata del módulo 3"
   ]
  },
  {
   "cell_type": "markdown",
   "metadata": {},
   "source": [
    "\n",
    "Problema #1"
   ]
  },
  {
   "cell_type": "code",
   "execution_count": 16,
   "metadata": {},
   "outputs": [
    {
     "name": "stdout",
     "output_type": "stream",
     "text": [
      "¡Peligro! ¡Un asteroide con posibilidad de impacto!\n"
     ]
    }
   ],
   "source": [
    "vAsteroide = 49 #km/s\n",
    "if vAsteroide > 25: #km/s\n",
    "    print('¡Peligro! ¡Un asteroide con posibilidad de impacto!')\n",
    "else:\n",
    "    print('¡Cielo despejado!')"
   ]
  },
  {
   "cell_type": "markdown",
   "metadata": {},
   "source": [
    "\n",
    "Problema # 2\n"
   ]
  },
  {
   "cell_type": "code",
   "execution_count": 17,
   "metadata": {},
   "outputs": [
    {
     "name": "stdout",
     "output_type": "stream",
     "text": [
      "¡Cielo despejado!\n"
     ]
    }
   ],
   "source": [
    "vAsteroide = 19 #km/s\n",
    "if vAsteroide == 20: #km/s\n",
    "    print('Sal afura! ¡Diafruta de la luz de un asteroide en el cielo!')\n",
    "elif vAsteroide > 20: #km/s\n",
    "    print('Sal afura! ¡Diafruta de la luz de un asteroide en el cielo!')\n",
    "else:\n",
    "    print('¡Cielo despejado!')\n"
   ]
  },
  {
   "cell_type": "markdown",
   "metadata": {},
   "source": [
    "Problema #3"
   ]
  },
  {
   "cell_type": "code",
   "execution_count": 45,
   "metadata": {},
   "outputs": [
    {
     "name": "stdout",
     "output_type": "stream",
     "text": [
      "¡Emergencia, la Tierra puede estar en peligro!\n"
     ]
    }
   ],
   "source": [
    "\n",
    "vAsteroide = 29 #km/s\n",
    "dimAsteroide = 90 #m\n",
    "if vAsteroide > 25  and dimAsteroide > 25:\n",
    "    print('¡Emergencia, la Tierra puede estar en peligro!')\n",
    "elif vAsteroide > 25  and dimAsteroide > 1000:\n",
    "    print('¡Emergencia, la extincion esta cerca!')\n",
    "elif vAsteroide >= 20 and dimAsteroide < 25: \n",
    "    print('Sal afura! ¡Diafruta de la luz de un asteroide en el cielo!')\n",
    "elif dimAsteroide < 25:\n",
    "    print('Cielo despejado')\n",
    "else:\n",
    "    print('Cielo despejado')"
   ]
  }
 ],
 "metadata": {
  "interpreter": {
   "hash": "916dbcbb3f70747c44a77c7bcd40155683ae19c65e1c03b4aa3499c5328201f1"
  },
  "kernelspec": {
   "display_name": "Python 3.9.5 64-bit",
   "language": "python",
   "name": "python3"
  },
  "language_info": {
   "codemirror_mode": {
    "name": "ipython",
    "version": 3
   },
   "file_extension": ".py",
   "mimetype": "text/x-python",
   "name": "python",
   "nbconvert_exporter": "python",
   "pygments_lexer": "ipython3",
   "version": "3.9.5"
  },
  "orig_nbformat": 4
 },
 "nbformat": 4,
 "nbformat_minor": 2
}
